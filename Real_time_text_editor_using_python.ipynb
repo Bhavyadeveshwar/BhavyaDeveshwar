{
  "nbformat": 4,
  "nbformat_minor": 0,
  "metadata": {
    "colab": {
      "provenance": [],
      "authorship_tag": "ABX9TyP53MCW7kJ7mc/VMN5ZrBWq",
      "include_colab_link": true
    },
    "kernelspec": {
      "name": "python3",
      "display_name": "Python 3"
    },
    "language_info": {
      "name": "python"
    },
    "widgets": {
      "application/vnd.jupyter.widget-state+json": {
        "9ac55232a7db402b93832f5021b03cb6": {
          "model_module": "@jupyter-widgets/controls",
          "model_name": "TextareaModel",
          "model_module_version": "1.5.0",
          "state": {
            "_dom_classes": [],
            "_model_module": "@jupyter-widgets/controls",
            "_model_module_version": "1.5.0",
            "_model_name": "TextareaModel",
            "_view_count": null,
            "_view_module": "@jupyter-widgets/controls",
            "_view_module_version": "1.5.0",
            "_view_name": "TextareaView",
            "continuous_update": true,
            "description": "Code:",
            "description_tooltip": null,
            "disabled": false,
            "layout": "IPY_MODEL_3842f985b2774631b7849ae2f3ed1075",
            "placeholder": "Type your code here...",
            "rows": null,
            "style": "IPY_MODEL_2db1ed9a7e7d47f18750b256bcb812c9",
            "value": "#include <iostream>\nusing namespace std;\n\nint main() {\n    cout << \"Hello, World!\" << endl;\n    return 0;\n}\n"
          }
        },
        "3842f985b2774631b7849ae2f3ed1075": {
          "model_module": "@jupyter-widgets/base",
          "model_name": "LayoutModel",
          "model_module_version": "1.2.0",
          "state": {
            "_model_module": "@jupyter-widgets/base",
            "_model_module_version": "1.2.0",
            "_model_name": "LayoutModel",
            "_view_count": null,
            "_view_module": "@jupyter-widgets/base",
            "_view_module_version": "1.2.0",
            "_view_name": "LayoutView",
            "align_content": null,
            "align_items": null,
            "align_self": null,
            "border": null,
            "bottom": null,
            "display": null,
            "flex": null,
            "flex_flow": null,
            "grid_area": null,
            "grid_auto_columns": null,
            "grid_auto_flow": null,
            "grid_auto_rows": null,
            "grid_column": null,
            "grid_gap": null,
            "grid_row": null,
            "grid_template_areas": null,
            "grid_template_columns": null,
            "grid_template_rows": null,
            "height": "300px",
            "justify_content": null,
            "justify_items": null,
            "left": null,
            "margin": null,
            "max_height": null,
            "max_width": null,
            "min_height": null,
            "min_width": null,
            "object_fit": null,
            "object_position": null,
            "order": null,
            "overflow": null,
            "overflow_x": null,
            "overflow_y": null,
            "padding": null,
            "right": null,
            "top": null,
            "visibility": null,
            "width": "100%"
          }
        },
        "2db1ed9a7e7d47f18750b256bcb812c9": {
          "model_module": "@jupyter-widgets/controls",
          "model_name": "DescriptionStyleModel",
          "model_module_version": "1.5.0",
          "state": {
            "_model_module": "@jupyter-widgets/controls",
            "_model_module_version": "1.5.0",
            "_model_name": "DescriptionStyleModel",
            "_view_count": null,
            "_view_module": "@jupyter-widgets/base",
            "_view_module_version": "1.2.0",
            "_view_name": "StyleView",
            "description_width": ""
          }
        },
        "d1501f0a83bc408cb56a2261ae395779": {
          "model_module": "@jupyter-widgets/output",
          "model_name": "OutputModel",
          "model_module_version": "1.0.0",
          "state": {
            "_dom_classes": [],
            "_model_module": "@jupyter-widgets/output",
            "_model_module_version": "1.0.0",
            "_model_name": "OutputModel",
            "_view_count": null,
            "_view_module": "@jupyter-widgets/output",
            "_view_module_version": "1.0.0",
            "_view_name": "OutputView",
            "layout": "IPY_MODEL_e4c32f0cbef34ed5818ee849810c3bed",
            "msg_id": "",
            "outputs": [
              {
                "output_type": "stream",
                "name": "stdout",
                "text": [
                  "\u001b[36m#\u001b[39;49;00m\u001b[36minclude\u001b[39;49;00m\u001b[37m \u001b[39;49;00m\u001b[37m<iostream>\u001b[39;49;00m\u001b[36m\u001b[39;49;00m\n",
                  "\u001b[34musing\u001b[39;49;00m\u001b[37m \u001b[39;49;00m\u001b[34mnamespace\u001b[39;49;00m\u001b[37m \u001b[39;49;00m\u001b[04m\u001b[36mstd\u001b[39;49;00m;\u001b[37m\u001b[39;49;00m\n",
                  "\u001b[37m\u001b[39;49;00m\n",
                  "\u001b[36mint\u001b[39;49;00m\u001b[37m \u001b[39;49;00m\u001b[32mmain\u001b[39;49;00m()\u001b[37m \u001b[39;49;00m{\u001b[37m\u001b[39;49;00m\n",
                  "\u001b[37m    \u001b[39;49;00mcout\u001b[37m \u001b[39;49;00m<<\u001b[37m \u001b[39;49;00m\u001b[33m\"\u001b[39;49;00m\u001b[33mHello, World!\u001b[39;49;00m\u001b[33m\"\u001b[39;49;00m\u001b[37m \u001b[39;49;00m<<\u001b[37m \u001b[39;49;00mendl;\u001b[37m\u001b[39;49;00m\n",
                  "\u001b[37m    \u001b[39;49;00m\u001b[34mreturn\u001b[39;49;00m\u001b[37m \u001b[39;49;00m\u001b[34m0\u001b[39;49;00m;\u001b[37m\u001b[39;49;00m\n",
                  "}\u001b[37m\u001b[39;49;00m\n",
                  "\n"
                ]
              }
            ]
          }
        },
        "e4c32f0cbef34ed5818ee849810c3bed": {
          "model_module": "@jupyter-widgets/base",
          "model_name": "LayoutModel",
          "model_module_version": "1.2.0",
          "state": {
            "_model_module": "@jupyter-widgets/base",
            "_model_module_version": "1.2.0",
            "_model_name": "LayoutModel",
            "_view_count": null,
            "_view_module": "@jupyter-widgets/base",
            "_view_module_version": "1.2.0",
            "_view_name": "LayoutView",
            "align_content": null,
            "align_items": null,
            "align_self": null,
            "border": null,
            "bottom": null,
            "display": null,
            "flex": null,
            "flex_flow": null,
            "grid_area": null,
            "grid_auto_columns": null,
            "grid_auto_flow": null,
            "grid_auto_rows": null,
            "grid_column": null,
            "grid_gap": null,
            "grid_row": null,
            "grid_template_areas": null,
            "grid_template_columns": null,
            "grid_template_rows": null,
            "height": null,
            "justify_content": null,
            "justify_items": null,
            "left": null,
            "margin": null,
            "max_height": null,
            "max_width": null,
            "min_height": null,
            "min_width": null,
            "object_fit": null,
            "object_position": null,
            "order": null,
            "overflow": null,
            "overflow_x": null,
            "overflow_y": null,
            "padding": null,
            "right": null,
            "top": null,
            "visibility": null,
            "width": null
          }
        }
      }
    }
  },
  "cells": [
    {
      "cell_type": "markdown",
      "metadata": {
        "id": "view-in-github",
        "colab_type": "text"
      },
      "source": [
        "<a href=\"https://colab.research.google.com/github/Bhavyadeveshwar/BhavyaDeveshwar/blob/main/Real_time_text_editor_using_python.ipynb\" target=\"_parent\"><img src=\"https://colab.research.google.com/assets/colab-badge.svg\" alt=\"Open In Colab\"/></a>"
      ]
    },
    {
      "cell_type": "code",
      "execution_count": 1,
      "metadata": {
        "colab": {
          "base_uri": "https://localhost:8080/"
        },
        "id": "fkMWOdv40xiz",
        "outputId": "65eb89c2-b7bf-4bd9-f0e8-f4212d4acdfd"
      },
      "outputs": [
        {
          "output_type": "stream",
          "name": "stdout",
          "text": [
            "Requirement already satisfied: pygments in /usr/local/lib/python3.10/dist-packages (2.18.0)\n"
          ]
        }
      ],
      "source": [
        "pip install pygments\n"
      ]
    },
    {
      "cell_type": "code",
      "source": [
        "import pygments\n",
        "from pygments import highlight\n",
        "from pygments.lexers import PythonLexer, CppLexer\n",
        "from pygments.formatters import TerminalFormatter\n",
        "import ipywidgets as widgets\n",
        "from IPython.display import display, clear_output\n",
        "\n",
        "# Create a text area widget for code input\n",
        "code_area = widgets.Textarea(\n",
        "    value='',\n",
        "    placeholder='Type your code here...',\n",
        "    description='Code:',\n",
        "    layout=widgets.Layout(width='100%', height='300px')\n",
        ")\n",
        "\n",
        "# Output widget for displaying highlighted code\n",
        "output_area = widgets.Output()\n",
        "\n",
        "# Function to highlight the code\n",
        "def highlight_code(change):\n",
        "    with output_area:\n",
        "        clear_output(wait=True)  # Clear previous output\n",
        "        code = change['new']  # Get the new code from the text area\n",
        "        if code:\n",
        "            # Highlighting based on the chosen language\n",
        "            lexer = CppLexer() if code.startswith('#include') else PythonLexer()\n",
        "            highlighted_code = highlight(code, lexer, TerminalFormatter())\n",
        "            print(highlighted_code)\n",
        "\n",
        "# Link the text area to the highlight function\n",
        "code_area.observe(highlight_code, names='value')\n",
        "\n",
        "# Display the text area and output area\n",
        "display(code_area, output_area)\n"
      ],
      "metadata": {
        "colab": {
          "base_uri": "https://localhost:8080/",
          "height": 480,
          "referenced_widgets": [
            "9ac55232a7db402b93832f5021b03cb6",
            "3842f985b2774631b7849ae2f3ed1075",
            "2db1ed9a7e7d47f18750b256bcb812c9",
            "d1501f0a83bc408cb56a2261ae395779",
            "e4c32f0cbef34ed5818ee849810c3bed"
          ]
        },
        "id": "SIFj0z2M0_DZ",
        "outputId": "b2a37382-4b16-43be-e1a0-c663464ec5c7"
      },
      "execution_count": 2,
      "outputs": [
        {
          "output_type": "display_data",
          "data": {
            "text/plain": [
              "Textarea(value='', description='Code:', layout=Layout(height='300px', width='100%'), placeholder='Type your co…"
            ],
            "application/vnd.jupyter.widget-view+json": {
              "version_major": 2,
              "version_minor": 0,
              "model_id": "9ac55232a7db402b93832f5021b03cb6"
            }
          },
          "metadata": {}
        },
        {
          "output_type": "display_data",
          "data": {
            "text/plain": [
              "Output()"
            ],
            "application/vnd.jupyter.widget-view+json": {
              "version_major": 2,
              "version_minor": 0,
              "model_id": "d1501f0a83bc408cb56a2261ae395779"
            }
          },
          "metadata": {}
        }
      ]
    }
  ]
}