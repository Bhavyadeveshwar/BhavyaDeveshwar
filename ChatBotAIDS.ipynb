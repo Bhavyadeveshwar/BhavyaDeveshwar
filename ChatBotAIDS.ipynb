{
  "cells": [
    {
      "cell_type": "markdown",
      "metadata": {
        "id": "view-in-github",
        "colab_type": "text"
      },
      "source": [
        "<a href=\"https://colab.research.google.com/github/Bhavyadeveshwar/BhavyaDeveshwar/blob/main/ChatBotAIDS.ipynb\" target=\"_parent\"><img src=\"https://colab.research.google.com/assets/colab-badge.svg\" alt=\"Open In Colab\"/></a>"
      ]
    },
    {
      "cell_type": "code",
      "execution_count": null,
      "metadata": {
        "id": "2cm9rwqopSat"
      },
      "outputs": [],
      "source": [
        "#description: This is a smart chatbot"
      ]
    },
    {
      "cell_type": "code",
      "execution_count": 1,
      "metadata": {
        "colab": {
          "base_uri": "https://localhost:8080/"
        },
        "id": "Ob1-TgXephG7",
        "outputId": "27f29fac-f091-4f77-ec48-5d20bc21b835",
        "collapsed": true
      },
      "outputs": [
        {
          "output_type": "stream",
          "name": "stdout",
          "text": [
            "Requirement already satisfied: nltk in /usr/local/lib/python3.11/dist-packages (3.9.1)\n",
            "Requirement already satisfied: click in /usr/local/lib/python3.11/dist-packages (from nltk) (8.1.8)\n",
            "Requirement already satisfied: joblib in /usr/local/lib/python3.11/dist-packages (from nltk) (1.4.2)\n",
            "Requirement already satisfied: regex>=2021.8.3 in /usr/local/lib/python3.11/dist-packages (from nltk) (2024.11.6)\n",
            "Requirement already satisfied: tqdm in /usr/local/lib/python3.11/dist-packages (from nltk) (4.67.1)\n"
          ]
        }
      ],
      "source": [
        "pip install nltk"
      ]
    },
    {
      "cell_type": "code",
      "execution_count": 2,
      "metadata": {
        "colab": {
          "base_uri": "https://localhost:8080/"
        },
        "id": "0NNQfEA8p4X1",
        "outputId": "0ca57b37-aee8-4966-e456-76d94399085a",
        "collapsed": true
      },
      "outputs": [
        {
          "output_type": "stream",
          "name": "stdout",
          "text": [
            "Collecting newspaper\n",
            "  Downloading newspaper-0.1.0.7.tar.gz (176 kB)\n",
            "\u001b[2K     \u001b[90m━━━━━━━━━━━━━━━━━━━━━━━━━━━━━━━━━━━━━━━\u001b[0m \u001b[32m176.9/176.9 kB\u001b[0m \u001b[31m1.7 MB/s\u001b[0m eta \u001b[36m0:00:00\u001b[0m\n",
            "\u001b[?25h  \u001b[1;31merror\u001b[0m: \u001b[1msubprocess-exited-with-error\u001b[0m\n",
            "  \n",
            "  \u001b[31m×\u001b[0m \u001b[32mpython setup.py egg_info\u001b[0m did not run successfully.\n",
            "  \u001b[31m│\u001b[0m exit code: \u001b[1;36m1\u001b[0m\n",
            "  \u001b[31m╰─>\u001b[0m See above for output.\n",
            "  \n",
            "  \u001b[1;35mnote\u001b[0m: This error originates from a subprocess, and is likely not a problem with pip.\n",
            "  Preparing metadata (setup.py) ... \u001b[?25l\u001b[?25herror\n",
            "\u001b[1;31merror\u001b[0m: \u001b[1mmetadata-generation-failed\u001b[0m\n",
            "\n",
            "\u001b[31m×\u001b[0m Encountered error while generating package metadata.\n",
            "\u001b[31m╰─>\u001b[0m See above for output.\n",
            "\n",
            "\u001b[1;35mnote\u001b[0m: This is an issue with the package mentioned above, not pip.\n",
            "\u001b[1;36mhint\u001b[0m: See above for details.\n"
          ]
        }
      ],
      "source": [
        "pip install newspaper"
      ]
    },
    {
      "cell_type": "code",
      "execution_count": 3,
      "metadata": {
        "colab": {
          "base_uri": "https://localhost:8080/"
        },
        "id": "oY8ytpTCyZRr",
        "outputId": "6f5ed4cd-2521-4f74-de92-68db08e1e4b4",
        "collapsed": true
      },
      "outputs": [
        {
          "output_type": "stream",
          "name": "stdout",
          "text": [
            "Collecting lxml_html_clean\n",
            "  Downloading lxml_html_clean-0.4.2-py3-none-any.whl.metadata (2.4 kB)\n",
            "Requirement already satisfied: lxml in /usr/local/lib/python3.11/dist-packages (from lxml_html_clean) (5.3.2)\n",
            "Downloading lxml_html_clean-0.4.2-py3-none-any.whl (14 kB)\n",
            "Installing collected packages: lxml_html_clean\n",
            "Successfully installed lxml_html_clean-0.4.2\n"
          ]
        }
      ],
      "source": [
        "pip install lxml_html_clean"
      ]
    },
    {
      "cell_type": "code",
      "execution_count": 4,
      "metadata": {
        "id": "YWlyU-5qqSCt",
        "colab": {
          "base_uri": "https://localhost:8080/"
        },
        "outputId": "79788e1a-8e1e-4e47-c5e7-6c95ab252c33",
        "collapsed": true
      },
      "outputs": [
        {
          "output_type": "stream",
          "name": "stdout",
          "text": [
            "Collecting newspaper3k\n",
            "  Downloading newspaper3k-0.2.8-py3-none-any.whl.metadata (11 kB)\n",
            "Requirement already satisfied: beautifulsoup4>=4.4.1 in /usr/local/lib/python3.11/dist-packages (from newspaper3k) (4.13.3)\n",
            "Requirement already satisfied: Pillow>=3.3.0 in /usr/local/lib/python3.11/dist-packages (from newspaper3k) (11.1.0)\n",
            "Requirement already satisfied: PyYAML>=3.11 in /usr/local/lib/python3.11/dist-packages (from newspaper3k) (6.0.2)\n",
            "Collecting cssselect>=0.9.2 (from newspaper3k)\n",
            "  Downloading cssselect-1.3.0-py3-none-any.whl.metadata (2.6 kB)\n",
            "Requirement already satisfied: lxml>=3.6.0 in /usr/local/lib/python3.11/dist-packages (from newspaper3k) (5.3.2)\n",
            "Requirement already satisfied: nltk>=3.2.1 in /usr/local/lib/python3.11/dist-packages (from newspaper3k) (3.9.1)\n",
            "Requirement already satisfied: requests>=2.10.0 in /usr/local/lib/python3.11/dist-packages (from newspaper3k) (2.32.3)\n",
            "Collecting feedparser>=5.2.1 (from newspaper3k)\n",
            "  Downloading feedparser-6.0.11-py3-none-any.whl.metadata (2.4 kB)\n",
            "Collecting tldextract>=2.0.1 (from newspaper3k)\n",
            "  Downloading tldextract-5.2.0-py3-none-any.whl.metadata (11 kB)\n",
            "Collecting feedfinder2>=0.0.4 (from newspaper3k)\n",
            "  Downloading feedfinder2-0.0.4.tar.gz (3.3 kB)\n",
            "  Preparing metadata (setup.py) ... \u001b[?25l\u001b[?25hdone\n",
            "Collecting jieba3k>=0.35.1 (from newspaper3k)\n",
            "  Downloading jieba3k-0.35.1.zip (7.4 MB)\n",
            "\u001b[2K     \u001b[90m━━━━━━━━━━━━━━━━━━━━━━━━━━━━━━━━━━━━━━━━\u001b[0m \u001b[32m7.4/7.4 MB\u001b[0m \u001b[31m38.6 MB/s\u001b[0m eta \u001b[36m0:00:00\u001b[0m\n",
            "\u001b[?25h  Preparing metadata (setup.py) ... \u001b[?25l\u001b[?25hdone\n",
            "Requirement already satisfied: python-dateutil>=2.5.3 in /usr/local/lib/python3.11/dist-packages (from newspaper3k) (2.8.2)\n",
            "Collecting tinysegmenter==0.3 (from newspaper3k)\n",
            "  Downloading tinysegmenter-0.3.tar.gz (16 kB)\n",
            "  Preparing metadata (setup.py) ... \u001b[?25l\u001b[?25hdone\n",
            "Requirement already satisfied: soupsieve>1.2 in /usr/local/lib/python3.11/dist-packages (from beautifulsoup4>=4.4.1->newspaper3k) (2.6)\n",
            "Requirement already satisfied: typing-extensions>=4.0.0 in /usr/local/lib/python3.11/dist-packages (from beautifulsoup4>=4.4.1->newspaper3k) (4.13.1)\n",
            "Requirement already satisfied: six in /usr/local/lib/python3.11/dist-packages (from feedfinder2>=0.0.4->newspaper3k) (1.17.0)\n",
            "Collecting sgmllib3k (from feedparser>=5.2.1->newspaper3k)\n",
            "  Downloading sgmllib3k-1.0.0.tar.gz (5.8 kB)\n",
            "  Preparing metadata (setup.py) ... \u001b[?25l\u001b[?25hdone\n",
            "Requirement already satisfied: click in /usr/local/lib/python3.11/dist-packages (from nltk>=3.2.1->newspaper3k) (8.1.8)\n",
            "Requirement already satisfied: joblib in /usr/local/lib/python3.11/dist-packages (from nltk>=3.2.1->newspaper3k) (1.4.2)\n",
            "Requirement already satisfied: regex>=2021.8.3 in /usr/local/lib/python3.11/dist-packages (from nltk>=3.2.1->newspaper3k) (2024.11.6)\n",
            "Requirement already satisfied: tqdm in /usr/local/lib/python3.11/dist-packages (from nltk>=3.2.1->newspaper3k) (4.67.1)\n",
            "Requirement already satisfied: charset-normalizer<4,>=2 in /usr/local/lib/python3.11/dist-packages (from requests>=2.10.0->newspaper3k) (3.4.1)\n",
            "Requirement already satisfied: idna<4,>=2.5 in /usr/local/lib/python3.11/dist-packages (from requests>=2.10.0->newspaper3k) (3.10)\n",
            "Requirement already satisfied: urllib3<3,>=1.21.1 in /usr/local/lib/python3.11/dist-packages (from requests>=2.10.0->newspaper3k) (2.3.0)\n",
            "Requirement already satisfied: certifi>=2017.4.17 in /usr/local/lib/python3.11/dist-packages (from requests>=2.10.0->newspaper3k) (2025.1.31)\n",
            "Collecting requests-file>=1.4 (from tldextract>=2.0.1->newspaper3k)\n",
            "  Downloading requests_file-2.1.0-py2.py3-none-any.whl.metadata (1.7 kB)\n",
            "Requirement already satisfied: filelock>=3.0.8 in /usr/local/lib/python3.11/dist-packages (from tldextract>=2.0.1->newspaper3k) (3.18.0)\n",
            "Downloading newspaper3k-0.2.8-py3-none-any.whl (211 kB)\n",
            "\u001b[2K   \u001b[90m━━━━━━━━━━━━━━━━━━━━━━━━━━━━━━━━━━━━━━━━\u001b[0m \u001b[32m211.1/211.1 kB\u001b[0m \u001b[31m10.9 MB/s\u001b[0m eta \u001b[36m0:00:00\u001b[0m\n",
            "\u001b[?25hDownloading cssselect-1.3.0-py3-none-any.whl (18 kB)\n",
            "Downloading feedparser-6.0.11-py3-none-any.whl (81 kB)\n",
            "\u001b[2K   \u001b[90m━━━━━━━━━━━━━━━━━━━━━━━━━━━━━━━━━━━━━━━━\u001b[0m \u001b[32m81.3/81.3 kB\u001b[0m \u001b[31m5.7 MB/s\u001b[0m eta \u001b[36m0:00:00\u001b[0m\n",
            "\u001b[?25hDownloading tldextract-5.2.0-py3-none-any.whl (106 kB)\n",
            "\u001b[2K   \u001b[90m━━━━━━━━━━━━━━━━━━━━━━━━━━━━━━━━━━━━━━━━\u001b[0m \u001b[32m106.3/106.3 kB\u001b[0m \u001b[31m6.7 MB/s\u001b[0m eta \u001b[36m0:00:00\u001b[0m\n",
            "\u001b[?25hDownloading requests_file-2.1.0-py2.py3-none-any.whl (4.2 kB)\n",
            "Building wheels for collected packages: tinysegmenter, feedfinder2, jieba3k, sgmllib3k\n",
            "  Building wheel for tinysegmenter (setup.py) ... \u001b[?25l\u001b[?25hdone\n",
            "  Created wheel for tinysegmenter: filename=tinysegmenter-0.3-py3-none-any.whl size=13540 sha256=eea70a8223b569ac7cabbbd9d08c23c80ff8d777285238d06f69e4629d476d85\n",
            "  Stored in directory: /root/.cache/pip/wheels/fc/ab/f8/cce3a9ae6d828bd346be695f7ff54612cd22b7cbd7208d68f3\n",
            "  Building wheel for feedfinder2 (setup.py) ... \u001b[?25l\u001b[?25hdone\n",
            "  Created wheel for feedfinder2: filename=feedfinder2-0.0.4-py3-none-any.whl size=3341 sha256=63ef1b218037c1c066bcc167f782dbee41cc5c168ce76e053725adaec527e147\n",
            "  Stored in directory: /root/.cache/pip/wheels/80/d5/72/9cd9eccc819636436c6a6e59c22a0fb1ec167beef141f56491\n",
            "  Building wheel for jieba3k (setup.py) ... \u001b[?25l\u001b[?25hdone\n",
            "  Created wheel for jieba3k: filename=jieba3k-0.35.1-py3-none-any.whl size=7398380 sha256=18e0701a66d8d3a0757bc2a0b24892353ec8d4cd4679165ac811cd98ab163425\n",
            "  Stored in directory: /root/.cache/pip/wheels/3a/a1/46/8e68055c1713f9c4598774c15ad0541f26d5425ee7423b6493\n",
            "  Building wheel for sgmllib3k (setup.py) ... \u001b[?25l\u001b[?25hdone\n",
            "  Created wheel for sgmllib3k: filename=sgmllib3k-1.0.0-py3-none-any.whl size=6046 sha256=d4dfe58d109f2a82b0634c70b86298f0ed6317b996a3915b1ca8f7970382182f\n",
            "  Stored in directory: /root/.cache/pip/wheels/3b/25/2a/105d6a15df6914f4d15047691c6c28f9052cc1173e40285d03\n",
            "Successfully built tinysegmenter feedfinder2 jieba3k sgmllib3k\n",
            "Installing collected packages: tinysegmenter, sgmllib3k, jieba3k, feedparser, cssselect, requests-file, feedfinder2, tldextract, newspaper3k\n",
            "Successfully installed cssselect-1.3.0 feedfinder2-0.0.4 feedparser-6.0.11 jieba3k-0.35.1 newspaper3k-0.2.8 requests-file-2.1.0 sgmllib3k-1.0.0 tinysegmenter-0.3 tldextract-5.2.0\n"
          ]
        }
      ],
      "source": [
        "!pip install newspaper3k\n",
        "from newspaper import Article\n",
        "import random\n",
        "import string\n",
        "import nltk\n",
        "from sklearn.feature_extraction.text import CountVectorizer\n",
        "from sklearn.metrics.pairwise import cosine_similarity\n",
        "import numpy as np\n",
        "import warnings\n",
        "warnings.filterwarnings('ignore')\n"
      ]
    },
    {
      "cell_type": "code",
      "execution_count": 5,
      "metadata": {
        "colab": {
          "base_uri": "https://localhost:8080/"
        },
        "id": "WTCk4FbSsz2V",
        "outputId": "9c0dc1a1-e319-43ea-ba8b-a9b609638664"
      },
      "outputs": [
        {
          "output_type": "execute_result",
          "data": {
            "text/plain": [
              "True"
            ]
          },
          "metadata": {},
          "execution_count": 5
        }
      ],
      "source": [
        "#Download the punkt package\n",
        "nltk.download('punkt', quiet=True)"
      ]
    },
    {
      "cell_type": "code",
      "execution_count": 11,
      "metadata": {
        "colab": {
          "base_uri": "https://localhost:8080/"
        },
        "id": "AuKyYXe2t2z2",
        "outputId": "4fea684a-37d9-47bd-ae01-d4284f87444c",
        "collapsed": true
      },
      "outputs": [
        {
          "output_type": "stream",
          "name": "stdout",
          "text": [
            "Requirement already satisfied: nltk in /usr/local/lib/python3.11/dist-packages (3.9.1)\n",
            "Requirement already satisfied: click in /usr/local/lib/python3.11/dist-packages (from nltk) (8.1.8)\n",
            "Requirement already satisfied: joblib in /usr/local/lib/python3.11/dist-packages (from nltk) (1.4.2)\n",
            "Requirement already satisfied: regex>=2021.8.3 in /usr/local/lib/python3.11/dist-packages (from nltk) (2024.11.6)\n",
            "Requirement already satisfied: tqdm in /usr/local/lib/python3.11/dist-packages (from nltk) (4.67.1)\n"
          ]
        },
        {
          "output_type": "stream",
          "name": "stderr",
          "text": [
            "[nltk_data] Downloading package punkt to /root/nltk_data...\n",
            "[nltk_data]   Package punkt is already up-to-date!\n",
            "[nltk_data] Downloading package punkt_tab to /root/nltk_data...\n",
            "[nltk_data]   Unzipping tokenizers/punkt_tab.zip.\n"
          ]
        },
        {
          "output_type": "stream",
          "name": "stdout",
          "text": [
            "Key facts\n",
            "\n",
            "HIV remains a major global public health issue, having claimed an estimated 42.3 million lives to date. Transmission is ongoing in all countries globally.\n",
            "\n",
            "There were an estimated 39.9 million people living with HIV at the end of 2023, 65% of whom are in the WHO African Region.\n",
            "\n",
            "In 2023, an estimated 630 000 people died from HIV-related causes and an estimated 1.3 million people acquired HIV.\n",
            "\n",
            "There is no cure for HIV infection. However, with access to effective HIV prevention, diagnosis, treatment and care, including for opportunistic infections, HIV infection has become a manageable chronic health condition, enabling people living with HIV to lead long and healthy lives.\n",
            "\n",
            "WHO, the Global Fund and UNAIDS all have global HIV strategies that are aligned with the SDG target 3.3 of ending the HIV epidemic by 2030.\n",
            "\n",
            "By 2025, 95% of all people living with HIV should have a diagnosis, 95% of whom should be taking lifesaving antiretroviral treatment, and 95% of people living with HIV on treatment should achieve a suppressed viral load for the benefit of the person’s health and for reducing onward HIV transmission. In 2023, these percentages were 86%, 89%, and 93% respectively.\n",
            "\n",
            "In 2023, of all people living with HIV, 86% knew their status, 77% were receiving antiretroviral therapy and 72% had suppressed viral loads.\n",
            "\n",
            "Overview\n",
            "\n",
            "Human immunodeficiency virus (HIV) is a virus that attacks the body’s immune system. Acquired immunodeficiency syndrome (AIDS) occurs at the most advanced stage of infection.\n",
            "\n",
            "HIV targets the body’s white blood cells, weakening the immune system. This makes it easier to get sick with diseases like tuberculosis, infections and some cancers.\n",
            "\n",
            "HIV is spread from the body fluids of an infected person, including blood, breast milk, semen and vaginal fluids. It is not spread by kisses, hugs or sharing food. It can also spread from a mother to her baby.\n",
            "\n",
            "HIV can be prevented and treated with antiretroviral therapy (ART). Untreated HIV can progress to AIDS, often after many years.\n",
            "\n",
            "WHO now defines Advanced HIV Disease (AHD) as CD4 cell count less than 200 cells/mm3 or WHO stage 3 or 4 in adults and adolescents. All children younger than 5 years of age living with HIV are considered to have advanced HIV disease.\n",
            "\n",
            "Signs and symptoms\n",
            "\n",
            "The symptoms of HIV vary depending on the stage of infection.\n",
            "\n",
            "HIV spreads more easily in the first few months after a person is infected, but many are unaware of their status until the later stages. In the first few weeks after being infected people may not experience symptoms. Others may have an influenza-like illness including:\n",
            "\n",
            "fever\n",
            "\n",
            "headache\n",
            "\n",
            "rash\n",
            "\n",
            "sore throat.\n",
            "\n",
            "The infection progressively weakens the immune system. This can cause other signs and symptoms:\n",
            "\n",
            "swollen lymph nodes\n",
            "\n",
            "weight loss\n",
            "\n",
            "fever\n",
            "\n",
            "diarrhoea\n",
            "\n",
            "cough.\n",
            "\n",
            "Without treatment, people living with HIV infection can also develop severe illnesses:\n",
            "\n",
            "tuberculosis (TB)\n",
            "\n",
            "cryptococcal meningitis\n",
            "\n",
            "severe bacterial infections\n",
            "\n",
            "cancers such as lymphomas and Kaposi's sarcoma.\n",
            "\n",
            "HIV causes other infections to get worse, such as hepatitis C, hepatitis B and mpox.\n",
            "\n",
            "Transmission\n",
            "\n",
            "HIV can be transmitted via the exchange of body fluids from people living with HIV, including blood, breast milk, semen, and vaginal secretions. HIV can also be transmitted to a child during pregnancy and delivery. People cannot become infected with HIV through ordinary day-to-day contact such as kissing, hugging, shaking hands, or sharing personal objects, food or water.\n",
            "\n",
            "People living with HIV who are taking ART and have an undetectable viral load will not transmit HIV to their sexual partners. Early access to ART and support to remain on treatment is therefore critical not only to improve the health of people living with HIV but also to prevent HIV transmission.\n",
            "\n",
            "Risk factors\n",
            "\n",
            "Behaviours and conditions that put people at greater risk of contracting HIV include:\n",
            "\n",
            "having anal or vaginal sex without a condom;\n",
            "\n",
            "having another sexually transmitted infection (STI) such as syphilis, herpes, chlamydia, gonorrhoea and bacterial vaginosis;\n",
            "\n",
            "harmful use of alcohol or drugs in the context of sexual behaviour;\n",
            "\n",
            "sharing contaminated needles, syringes and other injecting equipment, or drug solutions when injecting drugs;\n",
            "\n",
            "receiving unsafe injections, blood transfusions, or tissue transplantation; and\n",
            "\n",
            "\n",
            "\n",
            "medical procedures that involve unsterile cutting or piercing; or accidental needle stick injuries, including among health workers.\n",
            "\n",
            "Diagnosis\n",
            "\n",
            "HIV can be diagnosed through rapid diagnostic tests that provide same-day results. This greatly facilitates early diagnosis and linkage with treatment and prevention. People can also use HIV self-tests to test themselves. However, no single test can provide a full HIV positive diagnosis; confirmatory testing is required, conducted by a qualified and trained health worker or community worker. HIV infection can be detected with great accuracy using WHO prequalified tests within a nationally approved testing strategy and algorithm.\n",
            "\n",
            "Most widely used HIV diagnostic tests detect antibodies produced by a person as part of their immune response to fight HIV. In most cases, people develop antibodies to HIV within 28 days of infection. During this time, people are in the so-called “window period” when they have low levels of antibodies which cannot be detected by many rapid tests, but they may still transmit HIV to others. People who have had a recent high-risk exposure and test negative can have a further test after 28 days.\n",
            "\n",
            "Following a positive diagnosis, people should be retested before they are enrolled in treatment and care to rule out any potential testing or reporting error. While testing for adolescents and adults has been made simple and efficient, this is not the case for babies born to HIV-positive mothers. For children less than 18 months of age, rapid antibody testing is not sufficient to identify HIV infection – virological testing must be provided as early as birth or at 6 weeks of age. New technologies are now available to perform this test at the point of care and enable same-day results, which will accelerate appropriate linkage with treatment and care.\n",
            "\n",
            "Prevention\n",
            "\n",
            "HIV is a preventable disease. Reduce the risk of HIV infection by:\n",
            "\n",
            "using a male or female condom during sex\n",
            "\n",
            "being tested for HIV and sexually transmitted infections\n",
            "\n",
            "having a voluntary medical male circumcision\n",
            "\n",
            "using harm reduction services for people who inject and use drugs.\n",
            "\n",
            "Doctors may suggest medicines and medical devices to help prevent HIV infection, including:\n",
            "\n",
            "antiretroviral drugs (ARVs), including oral Pre-Exposure Prophylaxis (PrEP) and long acting products\n",
            "\n",
            "dapivirine vaginal rings\n",
            "\n",
            "injectable long acting cabotegravir.\n",
            "\n",
            "ARVs can also be used to prevent mothers from passing HIV to their children.\n",
            "\n",
            "People taking antiretroviral therapy (ART) and who have no evidence of virus in the blood will not pass HIV to their sexual partners. Access to testing and ART is an important part of preventing HIV.\n",
            "\n",
            "Antiretroviral drugs given to people without HIV can prevent infection\n",
            "\n",
            "When given before possible exposures to HIV it is called pre-exposure prophylaxis (PrEP) and when given after an exposure it is called post-exposure prophylaxis (PEP). People can use PrEP or PEP when the risk of contracting HIV is high; people should seek advice from a clinician when thinking about using PrEP or PEP.\n",
            "\n",
            "Treatment\n",
            "\n",
            "There is no cure for HIV infection. It is treated with antiretroviral drugs, which stop the virus from replicating in the body.\n",
            "\n",
            "Current antiretroviral therapy (ART) does not cure HIV infection but allows a person’s immune system to get stronger. This helps them to fight other infections.\n",
            "\n",
            "Currently, ART must be taken every day for the rest of a person’s life.\n",
            "\n",
            "ART lowers the amount of the virus in a person’s body. This stops symptoms and allows people to live full and healthy lives. People living with HIV who are taking ART and who have no evidence of virus in the blood will not spread the virus to their sexual partners.\n",
            "\n",
            "Pregnant women with HIV should have access to, and take, ART as soon as possible. This protects the health of the mother and will help prevent HIV transmission to the fetus before birth, or through breast milk.\n",
            "\n",
            "Advanced HIV disease remains a persistent problem in the HIV response. WHO is supporting countries to implement the advanced HIV disease package of care to reduce illness and death. Newer HIV medicines and short course treatments for opportunistic infections like cryptococcal meningitis are being developed that may change the way people take ART and prevention medicines, including access to injectable formulations, in the future.\n",
            "\n",
            "More information on HIV treatments\n",
            "\n",
            "WHO response\n",
            "\n",
            "Global health sector strategies on HIV, viral hepatitis, and sexually transmitted infections for the period 2022–2030 (GHSSs) guide strategic responses to achieve the goals of ending AIDS, viral hepatitis B and C, and sexually transmitted infections by 2030.\n",
            "\n",
            "WHO’s Global HIV, Hepatitis and STIs Programmes recommend shared and disease-specific country actions supported by WHO and partners. They consider the epidemiological, technological, and contextual shifts of previous years, foster learning, and create opportunities to leverage innovation and new knowledge.\n",
            "\n",
            "WHO’s programmes call to reach the people most affected and most at risk for each disease, and to address inequities. Under a framework of universal health coverage and primary health care, WHO’s programmes contribute to achieving the goals of the 2030 Agenda for Sustainable Development.\n",
            "Key facts\n",
            "\n",
            "HIV remains a major global public health issue, having claimed an estimated 42.3 million lives to date. Transmission is ongoing in all countries globally.\n",
            "\n",
            "There were an estimated 39.9 million people living with HIV at the end of 2023, 65% of whom are in the WHO African Region.\n",
            "\n",
            "In 2023, an estimated 630 000 people died from HIV-related causes and an estimated 1.3 million people acquired HIV.\n",
            "\n",
            "There is no cure for HIV infection. However, with access to effective HIV prevention, diagnosis, treatment and care, including for opportunistic infections, HIV infection has become a manageable chronic health condition, enabling people living with HIV to lead long and healthy lives.\n",
            "\n",
            "WHO, the Global Fund and UNAIDS all have global HIV strategies that are aligned with the SDG target 3.3 of ending the HIV epidemic by 2030.\n",
            "\n",
            "By 2025, 95% of all people living with HIV should have a diagnosis, 95% of whom should be taking lifesaving antiretroviral treatment, and 95% of people living with HIV on treatment should achieve a suppressed viral load for the benefit of the person’s health and for reducing onward HIV transmission. In 2023, these percentages were 86%, 89%, and 93% respectively.\n",
            "\n",
            "In 2023, of all people living with HIV, 86% knew their status, 77% were receiving antiretroviral therapy and 72% had suppressed viral loads.\n",
            "\n",
            "Overview\n",
            "\n",
            "Human immunodeficiency virus (HIV) is a virus that attacks the body’s immune system. Acquired immunodeficiency syndrome (AIDS) occurs at the most advanced stage of infection.\n",
            "\n",
            "HIV targets the body’s white blood cells, weakening the immune system. This makes it easier to get sick with diseases like tuberculosis, infections and some cancers.\n",
            "\n",
            "HIV is spread from the body fluids of an infected person, including blood, breast milk, semen and vaginal fluids. It is not spread by kisses, hugs or sharing food. It can also spread from a mother to her baby.\n",
            "\n",
            "HIV can be prevented and treated with antiretroviral therapy (ART). Untreated HIV can progress to AIDS, often after many years.\n",
            "\n",
            "WHO now defines Advanced HIV Disease (AHD) as CD4 cell count less than 200 cells/mm3 or WHO stage 3 or 4 in adults and adolescents. All children younger than 5 years of age living with HIV are considered to have advanced HIV disease.\n",
            "\n",
            "Signs and symptoms\n",
            "\n",
            "The symptoms of HIV vary depending on the stage of infection.\n",
            "\n",
            "HIV spreads more easily in the first few months after a person is infected, but many are unaware of their status until the later stages. In the first few weeks after being infected people may not experience symptoms. Others may have an influenza-like illness including:\n",
            "\n",
            "fever\n",
            "\n",
            "headache\n",
            "\n",
            "rash\n",
            "\n",
            "sore throat.\n",
            "\n",
            "The infection progressively weakens the immune system. This can cause other signs and symptoms:\n",
            "\n",
            "swollen lymph nodes\n",
            "\n",
            "weight loss\n",
            "\n",
            "fever\n",
            "\n",
            "diarrhoea\n",
            "\n",
            "cough.\n",
            "\n",
            "Without treatment, people living with HIV infection can also develop severe illnesses:\n",
            "\n",
            "tuberculosis (TB)\n",
            "\n",
            "cryptococcal meningitis\n",
            "\n",
            "severe bacterial infections\n",
            "\n",
            "cancers such as lymphomas and Kaposi's sarcoma.\n",
            "\n",
            "HIV causes other infections to get worse, such as hepatitis C, hepatitis B and mpox.\n",
            "\n",
            "Transmission\n",
            "\n",
            "HIV can be transmitted via the exchange of body fluids from people living with HIV, including blood, breast milk, semen, and vaginal secretions. HIV can also be transmitted to a child during pregnancy and delivery. People cannot become infected with HIV through ordinary day-to-day contact such as kissing, hugging, shaking hands, or sharing personal objects, food or water.\n",
            "\n",
            "People living with HIV who are taking ART and have an undetectable viral load will not transmit HIV to their sexual partners. Early access to ART and support to remain on treatment is therefore critical not only to improve the health of people living with HIV but also to prevent HIV transmission.\n",
            "\n",
            "Risk factors\n",
            "\n",
            "Behaviours and conditions that put people at greater risk of contracting HIV include:\n",
            "\n",
            "having anal or vaginal sex without a condom;\n",
            "\n",
            "having another sexually transmitted infection (STI) such as syphilis, herpes, chlamydia, gonorrhoea and bacterial vaginosis;\n",
            "\n",
            "harmful use of alcohol or drugs in the context of sexual behaviour;\n",
            "\n",
            "sharing contaminated needles, syringes and other injecting equipment, or drug solutions when injecting drugs;\n",
            "\n",
            "receiving unsafe injections, blood transfusions, or tissue transplantation; and\n",
            "\n",
            "\n",
            "\n",
            "medical procedures that involve unsterile cutting or piercing; or accidental needle stick injuries, including among health workers.\n",
            "\n",
            "Diagnosis\n",
            "\n",
            "HIV can be diagnosed through rapid diagnostic tests that provide same-day results. This greatly facilitates early diagnosis and linkage with treatment and prevention. People can also use HIV self-tests to test themselves. However, no single test can provide a full HIV positive diagnosis; confirmatory testing is required, conducted by a qualified and trained health worker or community worker. HIV infection can be detected with great accuracy using WHO prequalified tests within a nationally approved testing strategy and algorithm.\n",
            "\n",
            "Most widely used HIV diagnostic tests detect antibodies produced by a person as part of their immune response to fight HIV. In most cases, people develop antibodies to HIV within 28 days of infection. During this time, people are in the so-called “window period” when they have low levels of antibodies which cannot be detected by many rapid tests, but they may still transmit HIV to others. People who have had a recent high-risk exposure and test negative can have a further test after 28 days.\n",
            "\n",
            "Following a positive diagnosis, people should be retested before they are enrolled in treatment and care to rule out any potential testing or reporting error. While testing for adolescents and adults has been made simple and efficient, this is not the case for babies born to HIV-positive mothers. For children less than 18 months of age, rapid antibody testing is not sufficient to identify HIV infection – virological testing must be provided as early as birth or at 6 weeks of age. New technologies are now available to perform this test at the point of care and enable same-day results, which will accelerate appropriate linkage with treatment and care.\n",
            "\n",
            "Prevention\n",
            "\n",
            "HIV is a preventable disease. Reduce the risk of HIV infection by:\n",
            "\n",
            "using a male or female condom during sex\n",
            "\n",
            "being tested for HIV and sexually transmitted infections\n",
            "\n",
            "having a voluntary medical male circumcision\n",
            "\n",
            "using harm reduction services for people who inject and use drugs.\n",
            "\n",
            "Doctors may suggest medicines and medical devices to help prevent HIV infection, including:\n",
            "\n",
            "antiretroviral drugs (ARVs), including oral Pre-Exposure Prophylaxis (PrEP) and long acting products\n",
            "\n",
            "dapivirine vaginal rings\n",
            "\n",
            "injectable long acting cabotegravir.\n",
            "\n",
            "ARVs can also be used to prevent mothers from passing HIV to their children.\n",
            "\n",
            "People taking antiretroviral therapy (ART) and who have no evidence of virus in the blood will not pass HIV to their sexual partners. Access to testing and ART is an important part of preventing HIV.\n",
            "\n",
            "Antiretroviral drugs given to people without HIV can prevent infection\n",
            "\n",
            "When given before possible exposures to HIV it is called pre-exposure prophylaxis (PrEP) and when given after an exposure it is called post-exposure prophylaxis (PEP). People can use PrEP or PEP when the risk of contracting HIV is high; people should seek advice from a clinician when thinking about using PrEP or PEP.\n",
            "\n",
            "Treatment\n",
            "\n",
            "There is no cure for HIV infection. It is treated with antiretroviral drugs, which stop the virus from replicating in the body.\n",
            "\n",
            "Current antiretroviral therapy (ART) does not cure HIV infection but allows a person’s immune system to get stronger. This helps them to fight other infections.\n",
            "\n",
            "Currently, ART must be taken every day for the rest of a person’s life.\n",
            "\n",
            "ART lowers the amount of the virus in a person’s body. This stops symptoms and allows people to live full and healthy lives. People living with HIV who are taking ART and who have no evidence of virus in the blood will not spread the virus to their sexual partners.\n",
            "\n",
            "Pregnant women with HIV should have access to, and take, ART as soon as possible. This protects the health of the mother and will help prevent HIV transmission to the fetus before birth, or through breast milk.\n",
            "\n",
            "Advanced HIV disease remains a persistent problem in the HIV response. WHO is supporting countries to implement the advanced HIV disease package of care to reduce illness and death. Newer HIV medicines and short course treatments for opportunistic infections like cryptococcal meningitis are being developed that may change the way people take ART and prevention medicines, including access to injectable formulations, in the future.\n",
            "\n",
            "More information on HIV treatments\n",
            "\n",
            "WHO response\n",
            "\n",
            "Global health sector strategies on HIV, viral hepatitis, and sexually transmitted infections for the period 2022–2030 (GHSSs) guide strategic responses to achieve the goals of ending AIDS, viral hepatitis B and C, and sexually transmitted infections by 2030.\n",
            "\n",
            "WHO’s Global HIV, Hepatitis and STIs Programmes recommend shared and disease-specific country actions supported by WHO and partners. They consider the epidemiological, technological, and contextual shifts of previous years, foster learning, and create opportunities to leverage innovation and new knowledge.\n",
            "\n",
            "WHO’s programmes call to reach the people most affected and most at risk for each disease, and to address inequities. Under a framework of universal health coverage and primary health care, WHO’s programmes contribute to achieving the goals of the 2030 Agenda for Sustainable Development.\n"
          ]
        }
      ],
      "source": [
        "#import the article\n",
        "#import the article\n",
        "!pip install nltk\n",
        "import nltk\n",
        "nltk.download('punkt')\n",
        "nltk.download('punkt_tab')\n",
        "from newspaper import Article\n",
        "article= Article('https://www.who.int/news-room/fact-sheets/detail/hiv-aids')\n",
        "article.download()\n",
        "article.parse()\n",
        "article.nlp()\n",
        "corpus=article.text\n",
        "\n",
        "\n",
        "#print text\n",
        "print(corpus)\n",
        "article.parse()\n",
        "article.nlp()\n",
        "corpus=article.text\n",
        "\n",
        "\n",
        "#print text\n",
        "print(corpus)\n"
      ]
    },
    {
      "cell_type": "code",
      "execution_count": 12,
      "metadata": {
        "colab": {
          "base_uri": "https://localhost:8080/"
        },
        "id": "RcAZZbL1uZPH",
        "outputId": "38bbe35e-36ce-4539-b461-3a2151d20389",
        "collapsed": true
      },
      "outputs": [
        {
          "output_type": "stream",
          "name": "stdout",
          "text": [
            "['Key facts\\n\\nHIV remains a major global public health issue, having claimed an estimated 42.3 million lives to date.', 'Transmission is ongoing in all countries globally.', 'There were an estimated 39.9 million people living with HIV at the end of 2023, 65% of whom are in the WHO African Region.', 'In 2023, an estimated 630 000 people died from HIV-related causes and an estimated 1.3 million people acquired HIV.', 'There is no cure for HIV infection.', 'However, with access to effective HIV prevention, diagnosis, treatment and care, including for opportunistic infections, HIV infection has become a manageable chronic health condition, enabling people living with HIV to lead long and healthy lives.', 'WHO, the Global Fund and UNAIDS all have global HIV strategies that are aligned with the SDG target 3.3 of ending the HIV epidemic by 2030.', 'By 2025, 95% of all people living with HIV should have a diagnosis, 95% of whom should be taking lifesaving antiretroviral treatment, and 95% of people living with HIV on treatment should achieve a suppressed viral load for the benefit of the person’s health and for reducing onward HIV transmission.', 'In 2023, these percentages were 86%, 89%, and 93% respectively.', 'In 2023, of all people living with HIV, 86% knew their status, 77% were receiving antiretroviral therapy and 72% had suppressed viral loads.', 'Overview\\n\\nHuman immunodeficiency virus (HIV) is a virus that attacks the body’s immune system.', 'Acquired immunodeficiency syndrome (AIDS) occurs at the most advanced stage of infection.', 'HIV targets the body’s white blood cells, weakening the immune system.', 'This makes it easier to get sick with diseases like tuberculosis, infections and some cancers.', 'HIV is spread from the body fluids of an infected person, including blood, breast milk, semen and vaginal fluids.', 'It is not spread by kisses, hugs or sharing food.', 'It can also spread from a mother to her baby.', 'HIV can be prevented and treated with antiretroviral therapy (ART).', 'Untreated HIV can progress to AIDS, often after many years.', 'WHO now defines Advanced HIV Disease (AHD) as CD4 cell count less than 200 cells/mm3 or WHO stage 3 or 4 in adults and adolescents.', 'All children younger than 5 years of age living with HIV are considered to have advanced HIV disease.', 'Signs and symptoms\\n\\nThe symptoms of HIV vary depending on the stage of infection.', 'HIV spreads more easily in the first few months after a person is infected, but many are unaware of their status until the later stages.', 'In the first few weeks after being infected people may not experience symptoms.', 'Others may have an influenza-like illness including:\\n\\nfever\\n\\nheadache\\n\\nrash\\n\\nsore throat.', 'The infection progressively weakens the immune system.', 'This can cause other signs and symptoms:\\n\\nswollen lymph nodes\\n\\nweight loss\\n\\nfever\\n\\ndiarrhoea\\n\\ncough.', \"Without treatment, people living with HIV infection can also develop severe illnesses:\\n\\ntuberculosis (TB)\\n\\ncryptococcal meningitis\\n\\nsevere bacterial infections\\n\\ncancers such as lymphomas and Kaposi's sarcoma.\", 'HIV causes other infections to get worse, such as hepatitis C, hepatitis B and mpox.', 'Transmission\\n\\nHIV can be transmitted via the exchange of body fluids from people living with HIV, including blood, breast milk, semen, and vaginal secretions.', 'HIV can also be transmitted to a child during pregnancy and delivery.', 'People cannot become infected with HIV through ordinary day-to-day contact such as kissing, hugging, shaking hands, or sharing personal objects, food or water.', 'People living with HIV who are taking ART and have an undetectable viral load will not transmit HIV to their sexual partners.', 'Early access to ART and support to remain on treatment is therefore critical not only to improve the health of people living with HIV but also to prevent HIV transmission.', 'Risk factors\\n\\nBehaviours and conditions that put people at greater risk of contracting HIV include:\\n\\nhaving anal or vaginal sex without a condom;\\n\\nhaving another sexually transmitted infection (STI) such as syphilis, herpes, chlamydia, gonorrhoea and bacterial vaginosis;\\n\\nharmful use of alcohol or drugs in the context of sexual behaviour;\\n\\nsharing contaminated needles, syringes and other injecting equipment, or drug solutions when injecting drugs;\\n\\nreceiving unsafe injections, blood transfusions, or tissue transplantation; and\\n\\n\\n\\nmedical procedures that involve unsterile cutting or piercing; or accidental needle stick injuries, including among health workers.', 'Diagnosis\\n\\nHIV can be diagnosed through rapid diagnostic tests that provide same-day results.', 'This greatly facilitates early diagnosis and linkage with treatment and prevention.', 'People can also use HIV self-tests to test themselves.', 'However, no single test can provide a full HIV positive diagnosis; confirmatory testing is required, conducted by a qualified and trained health worker or community worker.', 'HIV infection can be detected with great accuracy using WHO prequalified tests within a nationally approved testing strategy and algorithm.', 'Most widely used HIV diagnostic tests detect antibodies produced by a person as part of their immune response to fight HIV.', 'In most cases, people develop antibodies to HIV within 28 days of infection.', 'During this time, people are in the so-called “window period” when they have low levels of antibodies which cannot be detected by many rapid tests, but they may still transmit HIV to others.', 'People who have had a recent high-risk exposure and test negative can have a further test after 28 days.', 'Following a positive diagnosis, people should be retested before they are enrolled in treatment and care to rule out any potential testing or reporting error.', 'While testing for adolescents and adults has been made simple and efficient, this is not the case for babies born to HIV-positive mothers.', 'For children less than 18 months of age, rapid antibody testing is not sufficient to identify HIV infection – virological testing must be provided as early as birth or at 6 weeks of age.', 'New technologies are now available to perform this test at the point of care and enable same-day results, which will accelerate appropriate linkage with treatment and care.', 'Prevention\\n\\nHIV is a preventable disease.', 'Reduce the risk of HIV infection by:\\n\\nusing a male or female condom during sex\\n\\nbeing tested for HIV and sexually transmitted infections\\n\\nhaving a voluntary medical male circumcision\\n\\nusing harm reduction services for people who inject and use drugs.', 'Doctors may suggest medicines and medical devices to help prevent HIV infection, including:\\n\\nantiretroviral drugs (ARVs), including oral Pre-Exposure Prophylaxis (PrEP) and long acting products\\n\\ndapivirine vaginal rings\\n\\ninjectable long acting cabotegravir.', 'ARVs can also be used to prevent mothers from passing HIV to their children.', 'People taking antiretroviral therapy (ART) and who have no evidence of virus in the blood will not pass HIV to their sexual partners.', 'Access to testing and ART is an important part of preventing HIV.', 'Antiretroviral drugs given to people without HIV can prevent infection\\n\\nWhen given before possible exposures to HIV it is called pre-exposure prophylaxis (PrEP) and when given after an exposure it is called post-exposure prophylaxis (PEP).', 'People can use PrEP or PEP when the risk of contracting HIV is high; people should seek advice from a clinician when thinking about using PrEP or PEP.', 'Treatment\\n\\nThere is no cure for HIV infection.', 'It is treated with antiretroviral drugs, which stop the virus from replicating in the body.', 'Current antiretroviral therapy (ART) does not cure HIV infection but allows a person’s immune system to get stronger.', 'This helps them to fight other infections.', 'Currently, ART must be taken every day for the rest of a person’s life.', 'ART lowers the amount of the virus in a person’s body.', 'This stops symptoms and allows people to live full and healthy lives.', 'People living with HIV who are taking ART and who have no evidence of virus in the blood will not spread the virus to their sexual partners.', 'Pregnant women with HIV should have access to, and take, ART as soon as possible.', 'This protects the health of the mother and will help prevent HIV transmission to the fetus before birth, or through breast milk.', 'Advanced HIV disease remains a persistent problem in the HIV response.', 'WHO is supporting countries to implement the advanced HIV disease package of care to reduce illness and death.', 'Newer HIV medicines and short course treatments for opportunistic infections like cryptococcal meningitis are being developed that may change the way people take ART and prevention medicines, including access to injectable formulations, in the future.', 'More information on HIV treatments\\n\\nWHO response\\n\\nGlobal health sector strategies on HIV, viral hepatitis, and sexually transmitted infections for the period 2022–2030 (GHSSs) guide strategic responses to achieve the goals of ending AIDS, viral hepatitis B and C, and sexually transmitted infections by 2030.', 'WHO’s Global HIV, Hepatitis and STIs Programmes recommend shared and disease-specific country actions supported by WHO and partners.', 'They consider the epidemiological, technological, and contextual shifts of previous years, foster learning, and create opportunities to leverage innovation and new knowledge.', 'WHO’s programmes call to reach the people most affected and most at risk for each disease, and to address inequities.', 'Under a framework of universal health coverage and primary health care, WHO’s programmes contribute to achieving the goals of the 2030 Agenda for Sustainable Development.']\n"
          ]
        }
      ],
      "source": [
        "#tokenization\n",
        "text=corpus\n",
        "sentence_list= nltk.sent_tokenize(text)\n",
        "print(sentence_list)"
      ]
    },
    {
      "cell_type": "code",
      "execution_count": 13,
      "metadata": {
        "id": "gBi4GIuivKf-"
      },
      "outputs": [],
      "source": [
        "import random\n",
        "def greeting_response(text):\n",
        "  text=text.lower()\n",
        "\n",
        "  bot_greetings=['howdy','hi','hello',]\n",
        "  user_greetings=['hi','hey','watsup','bonjour']\n",
        "\n",
        "  for word in text.split():\n",
        "    if word in user_greetings:\n",
        "      return random.choice(bot_greetings)"
      ]
    },
    {
      "cell_type": "code",
      "execution_count": 14,
      "metadata": {
        "id": "Q3JITZ_eH7Gu"
      },
      "outputs": [],
      "source": [
        "def index_sort(list_var):\n",
        "  length=len(list_var)\n",
        "  list_index=list(range(0,length))\n",
        "  x=list_var\n",
        "  for i in range(length):\n",
        "    for j in range(length):\n",
        "      if x[list_index[i]]>x[list_index[j]]:\n",
        "        temp=list_index[i]    #swap\n",
        "        list_index[i]=list_index[j]\n",
        "        list_index[j]=temp\n",
        "  return list_index"
      ]
    },
    {
      "cell_type": "code",
      "execution_count": 15,
      "metadata": {
        "id": "jaEP0nEPJ0lg"
      },
      "outputs": [],
      "source": [
        "def bot_response(user_input):\n",
        "  user_input=user_input.lower()\n",
        "  sentence_list.append(user_input)\n",
        "  bot_response=''\n",
        "  cm=CountVectorizer().fit_transform(sentence_list)\n",
        "  similarity_scores=cosine_similarity(cm[-1],cm)\n",
        "  similarity_scores_list=similarity_scores.flatten()\n",
        "  index = index_sort(similarity_scores_list)\n",
        "  index=index[1:]\n",
        "  response_flag=0\n",
        "\n",
        "  j=0\n",
        "  for i in range(len(index)):\n",
        "    if similarity_scores_list[index[i]]>0.0:\n",
        "      bot_response=bot_response+' '+sentence_list[index[i]]\n",
        "      response_flag=1\n",
        "      j=j+1\n",
        "    if j>2:\n",
        "      break\n",
        "\n",
        "  if response_flag==0:\n",
        "    bot_response=bot_response+' '+'I apologize, i coudnt understand'\n",
        "\n",
        "  sentence_list.remove(user_input)\n",
        "  return bot_response\n"
      ]
    },
    {
      "cell_type": "code",
      "execution_count": null,
      "metadata": {
        "colab": {
          "background_save": true,
          "base_uri": "https://localhost:8080/"
        },
        "id": "rSJ4rgqnkyzV",
        "outputId": "31723451-24f5-4240-94fe-ad49a92bfbff"
      },
      "outputs": [
        {
          "output_type": "stream",
          "name": "stdout",
          "text": [
            "Hello I am Bhavya The Great ChatBot. I will answer all your queries about AIDS If you dont want to talk to me you can type get lost\n",
            "what is the most common symptom of AIDS\n",
            "Bhavya Bot: Acquired immunodeficiency syndrome (AIDS) occurs at the most advanced stage of infection. Signs and symptoms\n",
            "\n",
            "The symptoms of HIV vary depending on the stage of infection. ART lowers the amount of the virus in a person’s body.\n"
          ]
        }
      ],
      "source": [
        "import random\n",
        "import nltk\n",
        "from sklearn.feature_extraction.text import CountVectorizer\n",
        "from sklearn.metrics.pairwise import cosine_similarity\n",
        "def greeting_response(text):\n",
        "  text=text.lower()\n",
        "\n",
        "  bot_greetings=['howdy','hi','hello',]\n",
        "  user_greetings=['hi','hey','watsup','bonjour']\n",
        "\n",
        "  for word in text.split():\n",
        "    if word in user_greetings:\n",
        "      return random.choice(bot_greetings)\n",
        "\n",
        "\n",
        "#Let us start chat with the user\n",
        "print('Hello I am Bhavya The Great ChatBot. I will answer all your queries about AIDS If you dont want to talk to me you can type get lost')\n",
        "\n",
        "\n",
        "exit_list=['exit','get lost', 'bye', 'Get lost', 'Get Lost', ]\n",
        "\n",
        "while(True):\n",
        "  user_input=input()\n",
        "  if user_input.lower() in exit_list:\n",
        "    print('Bhavya will Chat with you later or never')\n",
        "    break\n",
        "  else:\n",
        "    if greeting_response(user_input) != None:\n",
        "      print('Bhavya Bot:'+greeting_response(user_input))\n",
        "    else:\n",
        "      print('Bhavya Bot:'+bot_response(user_input))\n",
        "\n",
        "\n",
        "\n",
        "\n"
      ]
    },
    {
      "cell_type": "code",
      "execution_count": null,
      "metadata": {
        "id": "0l8nzZ_RKP_D"
      },
      "outputs": [],
      "source": []
    }
  ],
  "metadata": {
    "colab": {
      "provenance": [],
      "authorship_tag": "ABX9TyMueNhfOaPWzshUOyLT5cwb",
      "include_colab_link": true
    },
    "kernelspec": {
      "display_name": "Python 3",
      "name": "python3"
    },
    "language_info": {
      "name": "python"
    }
  },
  "nbformat": 4,
  "nbformat_minor": 0
}